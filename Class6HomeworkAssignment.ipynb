{
 "cells": [
  {
   "cell_type": "markdown",
   "metadata": {},
   "source": [
    "# <center><font color='blue'>Homework Assignment Class 6</font></center>\n",
    "\n",
    "# <center><font color='blue'>Discrete and Continuous Probability (20 points)</font></center>"
   ]
  },
  {
   "cell_type": "markdown",
   "metadata": {},
   "source": [
    "### <font color='red'>Questions below can be answered in two ways. (1) They can be calculated using Python in the answer cells that immediately follow the problem, or may be answered in English by modifing the cell type to \"Markdown.\" You may attach a word processor document, with handwritten answers to certain of the problems sent as images embedded in the document.</font>  \n",
    "  \n",
    "## <font color='red'><p>WARNING: You may need to import some Python libraries. In previous homeworks that was done for you, but in this one you'll need to import what you need.</p></font>  \n",
    "  \n",
    "## <font color='red'><p>In the problems below, a random variable X, Y, etc. described in an earlier problem will apply to all later problems, without any mention of the previous definition. Variables with one name in a problem will never be redefined later in the problem set. Random variables will be capitalized, and realizations (values) will be lower case, e.g., $X$ and $x$, $X_1$ and $x_1$, $Z$ and $z$, etc.</p></font>  \n",
    "  \n",
    "## <font color='red'><p>The notation $N(a,b)$ always indicates a normal (Gaussian) distribution with mean $a$ and variance $b$.</p></font>  \n",
    "  \n",
    "### <font color='red'><p>If you answer some problems using a separate document, use the same naming convention as for the \"notebook\" version, i.e. including your last name and student ID</p></font>"
   ]
  },
  {
   "cell_type": "markdown",
   "metadata": {},
   "source": [
    "<font size=4>**Problem 1:** (2 pts) A cab was involved in a hit and run accident at \n",
    "  night, when it is difficult to identify colors. Two cab \n",
    "  companies, the Green and the Blue, operate in the city. \n",
    "  You are given the following data:  \n",
    "  \n",
    "• 80% of the cabs in the city are Green and 20% are Blue.  \n",
    "  \n",
    "• A witness identified the cab as Blue. The court tested \n",
    "  the reliability of the witness under the same conditions \n",
    "  that existed on the night of the accident and concluded \n",
    "  that the witness identified each of the cabs correctly 75% \n",
    "  of the time and failed 25% of the time.</font>"
   ]
  },
  {
   "cell_type": "markdown",
   "metadata": {},
   "source": [
    "# Answer to Problem 1: Answer here or in a text document.\n",
    "\n",
    "\n",
    "A = Accident caused by blue cab, W = witness said the cab was blue\n",
    "P(A) = 20%, P(W|A) = 75%, P(W|A^c) = 25%, P(A^c) = 80%\n",
    "P(W) = P(W|A) * P(A) + P(W|A^c) * P(A^c) = 75% * 20% + 25% * 80% = 0.35\n",
    "P(A|W) = P(AW)/P(W) = (P(W|A) * P(A))/P(W) = (75% * 20%)/35% = 3/7 round to 0.43\n",
    "So the probability that the cab involved in the accident was blue is 43%."
   ]
  },
  {
   "cell_type": "markdown",
   "metadata": {},
   "source": [
    "<font size=4>**Problem 2:** (1 pt) A random variable $(X,Y) \\subset \\mathbb{R}^2$ has a density function $f(x,y) = c$ ($c$ a constant) on the set $ W = \\{(x,y) \\, | \\, x^2 + y^2 \\le 4 \\}$ and is 0 outside $W$. What value must $c$ assume for $f(x,y)$ to be a pdf on W?\n",
    "</font>"
   ]
  },
  {
   "cell_type": "code",
   "execution_count": 22,
   "metadata": {},
   "outputs": [],
   "source": [
    "# Answer to Problem 2: Answer here or in a text document."
   ]
  },
  {
   "cell_type": "markdown",
   "metadata": {},
   "source": [
    "<font size=4>**Problem 3:** (2 pts) For the density function $f_{\\, \\!_{(X,Y)}}(x,y)$ in problem 2 (with the correct $c$), what is the marginal density of X?</font>"
   ]
  },
  {
   "cell_type": "code",
   "execution_count": 23,
   "metadata": {},
   "outputs": [],
   "source": [
    "# Answer to Problem 3: Answer here or in a text document."
   ]
  },
  {
   "cell_type": "markdown",
   "metadata": {},
   "source": [
    "<font size=4>**Problem 4:** (2 pts) For the density function $f_{\\, \\!_{(X,Y)}}(x,y)$ in problem 2 (with the correct $c$), calculate the conditional density $f_{\\, \\!_{(Y \\,| \\, X)}}(y \\, | \\, x)$.</font>"
   ]
  },
  {
   "cell_type": "code",
   "execution_count": 24,
   "metadata": {},
   "outputs": [],
   "source": [
    "# Answer to Problem 4: Answer here or in a text document."
   ]
  },
  {
   "cell_type": "markdown",
   "metadata": {},
   "source": [
    "<font size=4>**Problem 5:** (2 pts) For the density function $f_{\\, \\!_{(X,Y)}}(x,y)$ in problem 2 (with the correct $c$), are random variables $X$ and $Y$ independent?</font>"
   ]
  },
  {
   "cell_type": "code",
   "execution_count": 25,
   "metadata": {},
   "outputs": [],
   "source": [
    "# Answer to Problem 5: Answer here or in a text document.\n",
    "# if fX (x)fY (y) = f(X,Y)(x,y), they are independent.\n",
    "# No."
   ]
  },
  {
   "cell_type": "markdown",
   "metadata": {},
   "source": [
    "<font size=4>**Problem 6:** (1 pt) Let $Z \\sim N(5, 2)$. What is the value of the cumulative distribution at z=3?</font>"
   ]
  },
  {
   "cell_type": "code",
   "execution_count": 26,
   "metadata": {},
   "outputs": [
    {
     "data": {
      "text/plain": [
       "0.07864960352514258"
      ]
     },
     "execution_count": 26,
     "metadata": {},
     "output_type": "execute_result"
    }
   ],
   "source": [
    "#Answer to Problem 6: Answer here or in a text document.\n",
    "import numpy as np\n",
    "import pandas as pd\n",
    "from scipy import stats\n",
    "from scipy.stats import norm\n",
    "import matplotlib.pyplot as plt\n",
    "import seaborn as sns\n",
    "%matplotlib inline\n",
    "# Z ~ N（μ,σ2） μ = 5, σ2 = 2\n",
    "σ = np.sqrt(2)\n",
    "rv5 = stats.norm(loc=5,scale=σ)\n",
    "rv5.cdf(3)"
   ]
  },
  {
   "cell_type": "markdown",
   "metadata": {},
   "source": [
    "<font size=4>**Problem 7:** (1 pt) What is the probability of the event $E = [3 \\le Z \\le 7]$?</font>"
   ]
  },
  {
   "cell_type": "code",
   "execution_count": 27,
   "metadata": {},
   "outputs": [
    {
     "name": "stdout",
     "output_type": "stream",
     "text": [
      "P[3 <= Z <= 7] is 0.8427007929497148\n"
     ]
    }
   ],
   "source": [
    "#Answer to Problem 7: Answer here or in a text document.\n",
    "print(f'P[3 <= Z <= 7] is',(rv5.cdf(7) - rv5.cdf(3)))\n"
   ]
  },
  {
   "cell_type": "markdown",
   "metadata": {},
   "source": [
    "<font size=4>**Problem 8:** (1 pt) What is the 0.60 quantile of Z?</font>"
   ]
  },
  {
   "cell_type": "code",
   "execution_count": 28,
   "metadata": {},
   "outputs": [
    {
     "data": {
      "text/plain": [
       "5.36"
      ]
     },
     "execution_count": 28,
     "metadata": {},
     "output_type": "execute_result"
    }
   ],
   "source": [
    "#Answer to Problem 8: Answer here or in a text document.\n",
    "round(rv5.ppf(0.6),2)"
   ]
  },
  {
   "cell_type": "markdown",
   "metadata": {},
   "source": [
    "<font size=4>**Problem 9:** (1 pt) What is value of the survival function of $Z$ at $z = 6$?</font>"
   ]
  },
  {
   "cell_type": "code",
   "execution_count": 29,
   "metadata": {},
   "outputs": [
    {
     "data": {
      "text/plain": [
       "0.23975006109347674"
      ]
     },
     "execution_count": 29,
     "metadata": {},
     "output_type": "execute_result"
    }
   ],
   "source": [
    "#Answer to Problem 9: Answer here or in a text document.\n",
    "rv5.sf(6)\n"
   ]
  },
  {
   "cell_type": "markdown",
   "metadata": {},
   "source": [
    "<font size=4>**Problem 10:** (1 pt) What is the distribution of the random variable $Z_1 = 3Z + 6$?</font>"
   ]
  },
  {
   "cell_type": "markdown",
   "metadata": {},
   "source": [
    "#Answer to Problem 10:\n",
    "Z1 ~ N（3*5 + 6，9*2）\n",
    "Random variable Z1 is normal distribution Z1 ~ N（21，18）"
   ]
  },
  {
   "cell_type": "markdown",
   "metadata": {},
   "source": [
    "<font size=4>**Problem 11:** (1 pt) If the probability density of the random variable $(X_1, X_2)$ is $f_{\\!_{\\, (X_1, X_2)}}(x_1, x_2) = g(x_1)h(x_2)$, where $g(\\cdot)$ and $h(\\cdot)$ are real valued functions of a real variable, what is the marginal distribution of $X_1$?</font>"
   ]
  },
  {
   "cell_type": "markdown",
   "metadata": {},
   "source": [
    "#Answer to Problem 11:\n",
    "\n",
    "From the statement above, we know that X1 and X2 are stochastically independent, so the marginal distribution of \n",
    "X1 is g(x1)."
   ]
  },
  {
   "cell_type": "markdown",
   "metadata": {},
   "source": [
    "<font size=4>**Problem 12:** (1 pt) Let $W_1$ and $W_2$  have stochastically independent gamma distributions, $Gam(4,1)$ and $Gam(3,1)$, respectively. (**Warning: Use the parameterization in the notes: $\\alpha$ (shape) and $\\beta$ (scale factor)**. There are different ways to parameterize the Gamma distribution - see Wikipedia.) What is the distribution of the random varible $W_3 = W_1 + W_2$?</font>"
   ]
  },
  {
   "cell_type": "markdown",
   "metadata": {},
   "source": [
    "#Answer to Problem 12: \n",
    "W3 = W1 + W2\n",
    "W3(3+4, 1)\n",
    "w3 ∼ Γ(7, 1)\n",
    "\n",
    "\n"
   ]
  },
  {
   "cell_type": "markdown",
   "metadata": {},
   "source": [
    "<font size=4>**Problem 13:** (1 pt) Let $S$ be an exponential random variable $S \\sim Exp(5)$, where the parameter '5' is a scale parameter. What is the probability $P[3 \\le S \\le 8]$?</font>"
   ]
  },
  {
   "cell_type": "code",
   "execution_count": 33,
   "metadata": {},
   "outputs": [
    {
     "data": {
      "text/plain": [
       "0.34691511809937114"
      ]
     },
     "execution_count": 33,
     "metadata": {},
     "output_type": "execute_result"
    }
   ],
   "source": [
    "#Answer to Problem 13: Answer here or in a text document.\n",
    "from scipy.stats import expon\n",
    "p_1 = expon.cdf(x=3,scale=5)\n",
    "p_2 = expon.cdf(x=8,scale=5)\n",
    "p_2 -p_1\n"
   ]
  },
  {
   "cell_type": "markdown",
   "metadata": {},
   "source": [
    "<font size=4>**Problem 14:** (1 pt) If random variables $H_1 \\sim N(4,3)$ and $H_2 \\sim N(1,4)$ are independent, what is the distribution of $N_3 = N_1 + N_2$?</font>"
   ]
  },
  {
   "cell_type": "markdown",
   "metadata": {},
   "source": [
    "#Answer to Problem 14: Answer here or in a text document.\n",
    "N1 + N2 ∼ N(µ1 + µ2,σ2 1 + σ2 2) \n",
    "N3 ~ N(5, 7)\n"
   ]
  },
  {
   "cell_type": "markdown",
   "metadata": {},
   "source": [
    "<font size=4>**Problem 15:** (2 pts) Let $U \\sim Ber(0.6)$ distribution. Construct a random variable $R$ as follows. Draw a realization from $U$ ($0$ with prob $0.4$ and $1$ with prob $0.6$). If $U = 1$, let $R \\sim N(4,3)$ and if $U=0$, let $R \\sim N(2,1)$. What is the mean of R?</font>"
   ]
  },
  {
   "cell_type": "code",
   "execution_count": null,
   "metadata": {},
   "outputs": [],
   "source": [
    "#Answer to Problem 15: Answer here or in a text document.\n"
   ]
  }
 ],
 "metadata": {
  "kernelspec": {
   "display_name": "Python 3",
   "language": "python",
   "name": "python3"
  },
  "language_info": {
   "codemirror_mode": {
    "name": "ipython",
    "version": 3
   },
   "file_extension": ".py",
   "mimetype": "text/x-python",
   "name": "python",
   "nbconvert_exporter": "python",
   "pygments_lexer": "ipython3",
   "version": "3.6.5"
  }
 },
 "nbformat": 4,
 "nbformat_minor": 2
}
